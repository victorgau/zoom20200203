{
 "cells": [
  {
   "cell_type": "markdown",
   "metadata": {
    "colab_type": "text",
    "id": "TAu5ZM3Aft-f"
   },
   "source": [
    "# 智能投資範例\n",
    "\n",
    "參考連結：\n",
    "\n",
    "* https://tw.pycon.org/2019/zh-hant/\n",
    "* https://trends.gb.net/view/HkBIV1ZJKrM\n",
    "* http://hilpisch.com/pycontw.pdf\n",
    "* http://hilpisch.com/pycontw.html"
   ]
  },
  {
   "cell_type": "code",
   "execution_count": null,
   "metadata": {
    "colab": {},
    "colab_type": "code",
    "id": "rkerkVHCPKyM"
   },
   "outputs": [],
   "source": [
    "import numpy as np\n",
    "import pandas as pd\n",
    "import pandas_datareader.data as web"
   ]
  },
  {
   "cell_type": "code",
   "execution_count": null,
   "metadata": {
    "colab": {},
    "colab_type": "code",
    "id": "kEPLCZGBPkvF"
   },
   "outputs": [],
   "source": [
    "df = web.DataReader(\"SPY\",\"yahoo\",\"2017-01-01\")"
   ]
  },
  {
   "cell_type": "code",
   "execution_count": null,
   "metadata": {
    "colab": {
     "base_uri": "https://localhost:8080/",
     "height": 210
    },
    "colab_type": "code",
    "id": "p2euz9NZPxEn",
    "outputId": "a9ba2b53-60d9-414a-ed05-73e8b9fbf7dc"
   },
   "outputs": [],
   "source": [
    "df.info()"
   ]
  },
  {
   "cell_type": "code",
   "execution_count": null,
   "metadata": {
    "colab": {},
    "colab_type": "code",
    "id": "15UyPK5zP_6u"
   },
   "outputs": [],
   "source": [
    "#df['r'] = df['Adj Close'].pct_change()\n",
    "df['r'] = np.log(df['Adj Close'] / df['Adj Close'].shift(1))\n",
    "df['d'] = np.where(df['r'] > 0, 1, 0)"
   ]
  },
  {
   "cell_type": "code",
   "execution_count": null,
   "metadata": {
    "colab": {
     "base_uri": "https://localhost:8080/",
     "height": 234
    },
    "colab_type": "code",
    "id": "WZaPO_vLQPuY",
    "outputId": "31ad75ad-715e-4dd0-ecd8-fb173b9bed56"
   },
   "outputs": [],
   "source": [
    "df.head()"
   ]
  },
  {
   "cell_type": "code",
   "execution_count": null,
   "metadata": {
    "colab": {},
    "colab_type": "code",
    "id": "1AdumR_FQTqW"
   },
   "outputs": [],
   "source": [
    "df['long'] = df['r']\n",
    "df['short'] = -df['r']\n",
    "df['random'] = np.random.choice([-1, 1], len(df)) * df['r']"
   ]
  },
  {
   "cell_type": "code",
   "execution_count": null,
   "metadata": {
    "colab": {},
    "colab_type": "code",
    "id": "YugD8ot1QoxY"
   },
   "outputs": [],
   "source": [
    "lags = 5"
   ]
  },
  {
   "cell_type": "code",
   "execution_count": null,
   "metadata": {
    "colab": {},
    "colab_type": "code",
    "id": "lAEZDz6vQass"
   },
   "outputs": [],
   "source": [
    "def create_lags(df, mu, std):\n",
    "    global cols\n",
    "    cols = []\n",
    "    df['rs'] = df['r'] - mu\n",
    "    df['rs'] /= std\n",
    "    for lag in range(1, lags + 1):\n",
    "        col = 'lag_{}'.format(lag)\n",
    "        df[col] = df['rs'].shift(lag)\n",
    "        cols.append(col)\n",
    "    df.dropna(inplace=True)"
   ]
  },
  {
   "cell_type": "code",
   "execution_count": null,
   "metadata": {
    "colab": {
     "base_uri": "https://localhost:8080/",
     "height": 34
    },
    "colab_type": "code",
    "id": "GkOlLb0PQqfx",
    "outputId": "b64af69d-753f-49b7-b71e-fe499a175b6e"
   },
   "outputs": [],
   "source": [
    "ld = len(df)\n",
    "ld"
   ]
  },
  {
   "cell_type": "code",
   "execution_count": null,
   "metadata": {
    "colab": {},
    "colab_type": "code",
    "id": "aCmdQAHvQxs1"
   },
   "outputs": [],
   "source": [
    "split = int(ld * 0.6)\n",
    "val_size = int(ld * 0.1)"
   ]
  },
  {
   "cell_type": "code",
   "execution_count": null,
   "metadata": {
    "colab": {},
    "colab_type": "code",
    "id": "Qxz9bVk9Q5Sw"
   },
   "outputs": [],
   "source": [
    "train = df.iloc[:split]\n",
    "val = train[-val_size:]\n",
    "train = train[:-val_size]\n",
    "test = df.iloc[split:].copy()"
   ]
  },
  {
   "cell_type": "code",
   "execution_count": null,
   "metadata": {
    "colab": {},
    "colab_type": "code",
    "id": "iPiuRtU9RBaJ"
   },
   "outputs": [],
   "source": [
    "mu = train['r'].mean()\n",
    "std = train['r'].std()\n",
    "create_lags(train, mu, std)\n",
    "create_lags(val, mu, std)\n",
    "create_lags(test, mu, std)"
   ]
  },
  {
   "cell_type": "code",
   "execution_count": null,
   "metadata": {
    "colab": {
     "base_uri": "https://localhost:8080/",
     "height": 98
    },
    "colab_type": "code",
    "id": "3s9y2E3FRd7b",
    "outputId": "b5375627-b8a5-4349-91d7-8f4ca8fe5017"
   },
   "outputs": [],
   "source": [
    "import tensorflow as tf\n",
    "tf.logging.set_verbosity(tf.logging.ERROR)\n",
    "from keras.models import Sequential\n",
    "from keras.layers import Dense\n",
    "from keras.optimizers import RMSprop, Adam"
   ]
  },
  {
   "cell_type": "code",
   "execution_count": null,
   "metadata": {
    "colab": {},
    "colab_type": "code",
    "id": "ONYtaf2ZazQ5"
   },
   "outputs": [],
   "source": [
    "np.random.seed(100)\n",
    "tf.random.set_random_seed(100)"
   ]
  },
  {
   "cell_type": "code",
   "execution_count": null,
   "metadata": {
    "colab": {},
    "colab_type": "code",
    "id": "24j_oHmIa2-i"
   },
   "outputs": [],
   "source": [
    "opt = RMSprop(lr=0.005, rho=0.9, epsilon=None, decay=0.0)\n",
    "#opt = Adam(lr=0.001, beta_1=0.9, beta_2=0.999, amsgrad=False)"
   ]
  },
  {
   "cell_type": "code",
   "execution_count": null,
   "metadata": {
    "colab": {},
    "colab_type": "code",
    "id": "nV4iIFs4a4_k"
   },
   "outputs": [],
   "source": [
    "model = Sequential()\n",
    "\n",
    "model.add(Dense(128, activation='relu', input_shape=(lags,)))\n",
    "model.add(Dense(128, activation='relu'))\n",
    "model.add(Dense(1, activation='sigmoid'))\n",
    "\n",
    "model.compile(optimizer=opt, loss='binary_crossentropy', metrics=['acc'])"
   ]
  },
  {
   "cell_type": "code",
   "execution_count": null,
   "metadata": {
    "colab": {
     "base_uri": "https://localhost:8080/",
     "height": 70
    },
    "colab_type": "code",
    "id": "A12RXnWga7EB",
    "outputId": "f2ae2ff4-0774-4f31-9fe7-a9b43df171b1"
   },
   "outputs": [],
   "source": [
    "%%time\n",
    "model.fit(train[cols], train['d'],\n",
    "          epochs=50, batch_size=32, verbose=False,\n",
    "          validation_data=(val[cols], val['d']));"
   ]
  },
  {
   "cell_type": "code",
   "execution_count": null,
   "metadata": {
    "colab": {},
    "colab_type": "code",
    "id": "V7Ei1cAIa9gX"
   },
   "outputs": [],
   "source": [
    "res = pd.DataFrame(model.history.history)"
   ]
  },
  {
   "cell_type": "code",
   "execution_count": null,
   "metadata": {
    "colab": {
     "base_uri": "https://localhost:8080/",
     "height": 141
    },
    "colab_type": "code",
    "id": "2i02CGVMbB9L",
    "outputId": "434b1c30-eaaa-4ff2-e91f-92ab004d0f30"
   },
   "outputs": [],
   "source": [
    "res.tail(3)"
   ]
  },
  {
   "cell_type": "code",
   "execution_count": null,
   "metadata": {
    "colab": {
     "base_uri": "https://localhost:8080/",
     "height": 52
    },
    "colab_type": "code",
    "id": "w6SCZRQTbD0k",
    "outputId": "0466e188-b371-41dd-859b-dd3450e39199"
   },
   "outputs": [],
   "source": [
    "model.evaluate(test[cols], test['d'])"
   ]
  },
  {
   "cell_type": "code",
   "execution_count": null,
   "metadata": {
    "colab": {
     "base_uri": "https://localhost:8080/",
     "height": 34
    },
    "colab_type": "code",
    "id": "X1Rg62vunmKB",
    "outputId": "375acf97-3bfc-4ea3-833e-69623329889c"
   },
   "outputs": [],
   "source": [
    "model.metrics_names"
   ]
  },
  {
   "cell_type": "code",
   "execution_count": null,
   "metadata": {
    "colab": {},
    "colab_type": "code",
    "id": "8GgpZo2tbLN5"
   },
   "outputs": [],
   "source": [
    "test['p'] = model.predict_classes(test[cols])\n",
    "test['p'] = np.where(test['p'] > 0, 1, -1)"
   ]
  },
  {
   "cell_type": "code",
   "execution_count": null,
   "metadata": {
    "colab": {
     "base_uri": "https://localhost:8080/",
     "height": 70
    },
    "colab_type": "code",
    "id": "mEFRWbxQbQhu",
    "outputId": "6ce694ee-d1a6-4ab1-e5ae-3572e8cef742"
   },
   "outputs": [],
   "source": [
    "test['p'].value_counts()"
   ]
  },
  {
   "cell_type": "code",
   "execution_count": null,
   "metadata": {
    "colab": {},
    "colab_type": "code",
    "id": "0heC6GQbbXrJ"
   },
   "outputs": [],
   "source": [
    "test['strategy_dnn'] = test['p'] * test['r']"
   ]
  },
  {
   "cell_type": "code",
   "execution_count": null,
   "metadata": {
    "colab": {},
    "colab_type": "code",
    "id": "WPXfYKBibkMu"
   },
   "outputs": [],
   "source": [
    "res_cols = ['strategy_dnn', 'random', 'short', 'long']"
   ]
  },
  {
   "cell_type": "code",
   "execution_count": null,
   "metadata": {
    "colab": {
     "base_uri": "https://localhost:8080/",
     "height": 105
    },
    "colab_type": "code",
    "id": "oHl3_CAMbc0x",
    "outputId": "a87d82d6-0001-4140-b097-eef2fb1a60bb"
   },
   "outputs": [],
   "source": [
    "r = test[res_cols].sum().apply(np.exp).sort_values(ascending=False)\n",
    "r"
   ]
  }
 ],
 "metadata": {
  "colab": {
   "collapsed_sections": [],
   "name": "智能投資範例.ipynb",
   "provenance": []
  },
  "kernelspec": {
   "display_name": "Python 3",
   "language": "python",
   "name": "python3"
  },
  "language_info": {
   "codemirror_mode": {
    "name": "ipython",
    "version": 3
   },
   "file_extension": ".py",
   "mimetype": "text/x-python",
   "name": "python",
   "nbconvert_exporter": "python",
   "pygments_lexer": "ipython3",
   "version": "3.7.1"
  }
 },
 "nbformat": 4,
 "nbformat_minor": 2
}
